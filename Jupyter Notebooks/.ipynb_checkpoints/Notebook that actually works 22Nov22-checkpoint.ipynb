{
 "cells": [
  {
   "cell_type": "code",
   "execution_count": 1,
   "id": "d65560cd",
   "metadata": {},
   "outputs": [],
   "source": [
    "gROOT->ProcessLine(\".L /home/rj/app/lib/libRadioScatter.so\");\n",
    "gROOT->ProcessLine(\"#include </home/rj/app/include/RadioScatter/RadioScatter.hh>\");\n",
    "gROOT->ProcessLine(\"#include </home/rj/app/include/RadioScatter/RSEventSummary.hh>\");\n",
    "gROOT->ProcessLine(\"#include </home/rj/app/include/RadioScatter/RadioScatterEvent.hh>\");\n",
    "gROOT->ProcessLine(\"#include </home/rj/app/include/RadioScatter/TUtilRadioScatter.hh>\");\n",
    "\n",
    "TString infile = \"/home/rj/RadioScatter/doc/output_test_0MHz_10W_10ns.root\";\n",
    "//    TString infile = \"/home/rj/RadioScatter/doc/multiscat_0MHz_10W_10ns.root\";\n",
    "auto ff = TFile::Open(infile, \"READ\");\n",
    "\n",
    "\n",
    "int rxindex = 0;\n",
    "int txindex = 0;\n",
    "int antenna = 0;\n",
    "int entry = 0;\n",
    "auto tree=(TTree*)ff->Get(\"tree\");\n"
   ]
  },
  {
   "cell_type": "code",
   "execution_count": 22,
   "id": "12a32a44",
   "metadata": {},
   "outputs": [
    {
     "data": {
      "image/png": "[encoded data removed]",
      "text/plain": [
       "<IPython.core.display.Image object>"
      ]
     },
     "metadata": {},
     "output_type": "display_data"
    },
    {
     "name": "stderr",
     "output_type": "stream",
     "text": [
      "Warning in <TCanvas::Constructor>: Deleting canvas with same name: c1\n"
     ]
    }
   ],
   "source": [
    "int rxindex = 0;\n",
    "int txindex = 0;\n",
    "int antenna = 0;\n",
    "int entry = 0;\n",
    "auto event = new RadioScatterEvent();\n",
    "tree->SetBranchAddress(\"event\", &event);\n",
    "TCanvas *c1 = new TCanvas(\"c1\", \"c1\", 800, 600);\n",
    "//     c1->Divide(2, 2);\n",
    "//    c1->SetWindowSize(1200, 1200);\n",
    "c1->SetWindowSize(200, 100);\n",
    "int entries = tree->GetEntries();\n",
    "tree->GetEntry(entry); // get the first entry\n",
    "auto evG = event->getGraph(rxindex, txindex); // generates graph evG\n",
    "TUtilRadioScatter::titles(evG, \"\", \"Time [ns]\", \"V\");\n",
    "TUtilRadioScatter::style(evG, kBlack, 1, 1);\n",
    "TUtilRadioScatter::xrange(evG, evG->GetX()[0], evG->GetX()[evG->GetN() - 1]);\n",
    "int bins = 32, overlap = 31;\n",
    "auto spec = TUtilRadioScatter::FFT::spectrogram(evG, bins, overlap, bins * 2, 2, 0, 0, .2); // generates spectrogram spec\n",
    "c1->SetLogy(0); // set y axis to linear\n",
    "spec->SetStats(0); // removes stats box\n",
    "spec->GetYaxis()->SetRangeUser(0,1);\n",
    "spec->Draw(\"colz\"); // draws spectrogram to canvas 1 upper left\n",
    "c1->Draw();"
   ]
  },
  {
   "cell_type": "code",
   "execution_count": 23,
   "id": "dfadf3b3",
   "metadata": {},
   "outputs": [],
   "source": [
    "int glob_to_x(int global, int x_bins){\n",
    "    int temp = global % (x_bins + 2);\n",
    "    // x bin value is global % the total number of x bins (GetNbinsX doesn't count either buffer bin)\n",
    "    return temp;\n",
    "}"
   ]
  },
  {
   "cell_type": "code",
   "execution_count": 24,
   "id": "8c114439",
   "metadata": {},
   "outputs": [],
   "source": [
    "int glob_to_y(int global, int x_bins){\n",
    "    int temp = global / (x_bins + 2);\n",
    "    // x bin value is global % the total number of x bins (GetNbinsX doesn't count either buffer bin)\n",
    "    return temp;\n",
    "}"
   ]
  },
  {
   "cell_type": "code",
   "execution_count": 25,
   "id": "7eab8252",
   "metadata": {},
   "outputs": [],
   "source": [
    "double* power_generator(TH2D *spec, double *pows_in){\n",
    "    int NumFreqBins = spec->GetNbinsX();\n",
    "    int NumIntensBins = spec->GetNbinsY();\n",
    "    int binmax = spec->GetMaximumBin(); // bin number of max intensity\n",
    "    double *pows = new double[NumFreqBins]; // array of frequencies\n",
    "    double *retpows = new double[NumFreqBins]; // array of frequencies\n",
    "    double *ybin = new double[NumFreqBins]; // array of y bin numbers\n",
    "    double_t iterator = 0; // iterator for the for loop\n",
    "//    int i = binmax - 390; // time bin number of the max intensity\n",
    "    int i = 460 - 390;\n",
    "    for(int j = 0; j < 32; j++){\n",
    "        if(j==0){pows[j]=0;}\n",
    "//        else{pows[j]=spec->GetBinContent(i,j) + pows_in[j];\n",
    "            else{pows[j]=spec->GetBinContent(i,j);\n",
    "        }\n",
    "        ybin[j] = j*0.015625*1000; // y bin number x YBinWidth * 1000MHz/GHz\n",
    "        iterator ++;\n",
    "    }\n",
    "    // loop over each entry in pows, add the value of pows_in, then return pows\n",
    "    for (int k = 0; k < NumFreqBins; k++){\n",
    "        retpows[k] = pows[k] + 1*pows_in[k];\n",
    "//        cout << \"pows[\" << k << \"] = \" << pows[k] << \" retpows[\" << k << \"] = \" << retpows[k] << endl;\n",
    "    }\n",
    "    return retpows;\n",
    "}"
   ]
  },
  {
   "cell_type": "code",
   "execution_count": 29,
   "id": "d02dbe20",
   "metadata": {},
   "outputs": [
    {
     "data": {
      "image/png": "[encoded data removed]",
      "text/plain": [
       "<IPython.core.display.Image object>"
      ]
     },
     "metadata": {},
     "output_type": "display_data"
    },
    {
     "name": "stdout",
     "output_type": "stream",
     "text": [
      "binmax = 1386\n",
      "NumFreqBins = 999\n",
      "NumTimeBins = 64\n"
     ]
    },
    {
     "name": "stderr",
     "output_type": "stream",
     "text": [
      "Warning in <TCanvas::Constructor>: Deleting canvas with same name: c1\n"
     ]
    }
   ],
   "source": [
    "\n",
    "\n",
    "    TCanvas *c1 = new TCanvas(\"c1\", \"c1\", 800, 600);\n",
    "//     c1->Divide(2, 2);\n",
    "//    c1->SetWindowSize(1200, 1200);\n",
    "    c1->SetWindowSize(1200, 800);\n",
    "    gPad->SetLeftMargin(.1);\n",
    "    gPad->SetBottomMargin(0);\n",
    "//     c1->cd(1);\n",
    "//     c1->cd(1)->SetLeftMargin(.15);\n",
    "//     c1->cd(1)->SetRightMargin(.2);\n",
    "//     c1->cd(2)->SetLeftMargin(.15);\n",
    "//     c1->cd(3)->SetLeftMargin(.15);\n",
    "//     c1->cd(3)->SetRightMargin(.2);\n",
    "//     c1->cd(4)->SetLeftMargin(.15);\n",
    "\n",
    "    int rxindex = 0;\n",
    "    int txindex = 0;\n",
    "    int antenna = 0;\n",
    "    int entry = 0;\n",
    "    auto event = new RadioScatterEvent();\n",
    "    tree->SetBranchAddress(\"event\", &event);\n",
    "\n",
    "    int entries = tree->GetEntries();\n",
    "    tree->GetEntry(entry); // get the first entry\n",
    "    auto evG = event->getGraph(rxindex, txindex); // generates graph evG\n",
    "    TUtilRadioScatter::titles(evG, \"\", \"Time [ns]\", \"V\");\n",
    "    TUtilRadioScatter::style(evG, kBlack, 1, 1);\n",
    "    TUtilRadioScatter::xrange(evG, evG->GetX()[0], evG->GetX()[evG->GetN() - 1]);\n",
    "    int bins = 32, overlap = 31;\n",
    "    auto spec = TUtilRadioScatter::FFT::spectrogram(evG, bins, overlap, bins * 2, 2, 0, 0, .2); // generates spectrogram spec\n",
    "    c1->SetLogy(0); // set y axis to linear\n",
    "    spec->SetStats(0); // removes stats box\n",
    "    spec->Draw(\"colz\"); // draws spectrogram to canvas 1 upper left\n",
    "\n",
    "    int  time_window = 479; // time window of interest\n",
    "\n",
    "    auto mg = new TMultiGraph(); // creates a multigraph\n",
    "\n",
    "    int NumFreqBins=spec->GetNbinsX();\n",
    "    int NumTimeBins=spec->GetNbinsY();\n",
    "    double *pows = new double[NumFreqBins];\n",
    "    double *ybin = new double[NumFreqBins];\n",
    "    double_t iterator = 0;\n",
    "    int binmax = spec->GetMaximumBin(); // bin number of max intensity\n",
    "    cout << \"binmax = \" << binmax << endl;\n",
    "    cout << \"NumFreqBins = \" << NumFreqBins << endl;\n",
    "    cout << \"NumTimeBins = \" << NumTimeBins << endl;\n",
    "\n",
    "    int i=460 - 390;\n",
    "    for(int j = 0; j < spec->GetNbinsY(); j++){\n",
    "        if(j==0){\n",
    "            pows[j]=0;\n",
    "        }\n",
    "        else{\n",
    "            pows[j]=spec->GetBinContent(i,j);\n",
    "        }\n",
    "        ybin[j] = j*.00625*1000; // y bin number x .2GHz/32bins * 1000MHz/GHz\n",
    "        iterator ++;\n",
    "    }\n",
    "    TGraph *gr = new TGraph(NumFreqBins, ybin, pows);\n",
    "    gr->GetYaxis()->SetRangeUser(1*pow(10,-18), 1*pow(10,-15));\n",
    "    gr->GetYaxis()->SetLimits(1*pow(10,-18), 1*pow(10,-15));\n",
    "    gr->SetMarkerColor(4);\n",
    "    gr->SetMarkerSize(.5);\n",
    "    gr->SetMarkerStyle(21);\n",
    "    gr->GetXaxis()->SetLimits(0,200);\n",
    "    gr->SetTitle(Form(\"Frequency vs Power at time %dns\", 390+i));\n",
    "    gr->GetXaxis()->SetTitle(\"\");\n",
    "    gr->GetYaxis()->SetTitle(\"WGHz^{-1}\");\n",
    "    double *newpows = new double[NumFreqBins];\n",
    "    for (int k = 0; k < entries -1; k++){\n",
    "        tree->GetEntry(k); // get the first entry\n",
    "        auto evG = event->getGraph(rxindex, txindex); // generates graph evG\n",
    "        TUtilRadioScatter::titles(evG, \"\", \"Time [ns]\", \"V\");\n",
    "        TUtilRadioScatter::style(evG, kBlack, 1, 1);\n",
    "        TUtilRadioScatter::xrange(evG, evG->GetX()[0], evG->GetX()[evG->GetN() - 1]);\n",
    "        int bins = 32, overlap = 31;\n",
    "        auto spec2 = TUtilRadioScatter::FFT::spectrogram(evG, bins, overlap, bins * 2, 2, 0, 0, .2); // generates spectrogram spec\n",
    "        newpows = power_generator(spec2, pows);\n",
    "//\n",
    "//        auto canvas = new TCanvas(\"canvas\", \"t00\");\n",
    "//        spec->Draw(\"colz\");\n",
    "//        string path = \"/home/rj/RadioScatter/outputfiles/\";\n",
    "//        string filename = \"spec_event_\" + to_string(k) + \".png\";\n",
    "//        string full_path = path + filename;\n",
    "//        const char *charpath = full_path.c_str();\n",
    "//        canvas->SaveAs(charpath);\n",
    "    }\n",
    "\n",
    "\n",
    "    mg->Add(gr, \"ACP\");\n",
    "\n",
    "    mg->GetXaxis()->SetLimits(0,200);\n",
    "    mg->GetXaxis()->SetTitle(\"Frequency (MHz)\");\n",
    "    mg->GetYaxis()->SetTitle(\"Power (WGHz^{-1} x 10^{-12})\");\n",
    "    mg->SetTitle(Form(\"Frequency vs Power at time %dns on \", 390+i));\n",
    "\n",
    "//     gr->Draw(\"ACP\");\n",
    "   mg->Draw(\"ACP\");\n",
    "c1->Draw();\n",
    "\n",
    "//    newpows[31] = 1*pow(10,-15);\n",
    "\n",
    "\n"
   ]
  },
  {
   "cell_type": "code",
   "execution_count": 32,
   "id": "79bf947e",
   "metadata": {},
   "outputs": [
    {
     "data": {
      "image/png": "[encoded data removed]",
      "text/plain": [
       "<IPython.core.display.Image object>"
      ]
     },
     "metadata": {},
     "output_type": "display_data"
    }
   ],
   "source": [
    "    \n",
    "    c1->SetLogy(1);\n",
    "    TGraph *gr1 = new TGraph(NumFreqBins, ybin, newpows);\n",
    "//    gr1->GetYaxis()->SetRangeUser(1*pow(10,-18), 1*pow(10,-15));\n",
    "    gr1->GetYaxis()->SetLimits(1*pow(10,-18), 1*pow(10,-15));\n",
    "    gr1->SetMarkerColor(4);\n",
    "    gr1->SetMarkerSize(.5);\n",
    "    gr1->SetMarkerStyle(21);\n",
    "    gr1->GetXaxis()->SetLimits(0,200);\n",
    "    gr1->SetTitle(\"Frequency vs Power summed over all events\");\n",
    "    gr1->GetXaxis()->SetTitle(\"\");\n",
    "    gr1->GetYaxis()->SetTitle(\"WGHz^{-1}\");\n",
    "    gr1->Draw(\"ACP\");\n",
    "//     cout << gr1->GetMaximum() << endl;\n",
    "c1->Draw();"
   ]
  },
  {
   "cell_type": "code",
   "execution_count": null,
   "id": "7c59eff9",
   "metadata": {},
   "outputs": [],
   "source": [
    "spec->Draw(\"colz\")"
   ]
  },
  {
   "cell_type": "code",
   "execution_count": null,
   "id": "6660bc5a",
   "metadata": {},
   "outputs": [],
   "source": []
  }
 ],
 "metadata": {
  "kernelspec": {
   "display_name": "ROOT C++",
   "language": "c++",
   "name": "root"
  },
  "language_info": {
   "codemirror_mode": "text/x-c++src",
   "file_extension": ".C",
   "mimetype": " text/x-c++src",
   "name": "c++"
  }
 },
 "nbformat": 4,
 "nbformat_minor": 5
}
