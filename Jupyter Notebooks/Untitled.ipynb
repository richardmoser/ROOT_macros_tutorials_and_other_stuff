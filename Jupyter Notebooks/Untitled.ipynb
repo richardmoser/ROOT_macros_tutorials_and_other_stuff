{
 "cells": [
  {
   "cell_type": "code",
   "execution_count": 1,
   "id": "714a4e97",
   "metadata": {},
   "outputs": [],
   "source": [
    "gROOT->ProcessLine(\".L /home/rj/app/lib/libRadioScatter.so\");\n",
    "gROOT->ProcessLine(\"#include </home/rj/app/include/RadioScatter/RadioScatter.hh>\");\n",
    "gROOT->ProcessLine(\"#include </home/rj/app/include/RadioScatter/RSEventSummary.hh>\");\n",
    "gROOT->ProcessLine(\"#include </home/rj/app/include/RadioScatter/RadioScatterEvent.hh>\");\n",
    "gROOT->ProcessLine(\"#include </home/rj/app/include/RadioScatter/TUtilRadioScatter.hh>\");\n",
    "TString infile = \"/home/rj/RadioScatter/doc/smallmultiscat_0MHz_10W_10ns.root\";\n",
    "auto ff=TFile::Open(infile, \"READ\");\n",
    "TFile *outfile = new TFile(\"/home/rj/RadioScatter/outputfiles/voltage_time_angle.root\", \"RECREATE\");\n",
    "TTree *outtree = new TTree(\"tree\", \"test label\");\n",
    "\n",
    "int rxindex = 0;\n",
    "int txindex = 0;\n",
    "int antenna = 0;\n",
    "int entry = 0;\n",
    "auto tree=(TTree*)ff->Get(\"tree\");"
   ]
  },
  {
   "cell_type": "code",
   "execution_count": 2,
   "id": "1b19adde",
   "metadata": {},
   "outputs": [],
   "source": [
    "auto event= new RadioScatterEvent();\n",
    "tree->SetBranchAddress(\"event\", &event);"
   ]
  },
  {
   "cell_type": "code",
   "execution_count": 4,
   "id": "e8066b63",
   "metadata": {},
   "outputs": [
    {
     "name": "stdout",
     "output_type": "stream",
     "text": [
      "Trigger threshold is: 2e-05\n",
      "\n",
      "Event 0 triggered: 6.31918e-05V\n",
      "Event 1 triggered: 3.33513e-05V\n",
      "Event 2 triggered: 0.000333871V\n",
      "Event 3 triggered: 0.000125728V\n",
      "Event 5 triggered: 4.42542e-05V\n",
      "Event 6 triggered: 0.000126606V\n",
      "Event 7 triggered: 0.000131274V\n",
      "Event 8 triggered: 0.000435111V\n",
      "Event 9 triggered: 0.000145251V\n",
      "Event 10 triggered: 5.87806e-05V\n",
      "Event 11 triggered: 0.000124014V\n",
      "Event 12 triggered: 0.00136354V\n",
      "Event 13 triggered: 0.000179935V\n",
      "Event 14 triggered: 7.29373e-05V\n",
      "Event 15 triggered: 7.31766e-05V\n",
      "Event 16 triggered: 0.000219168V\n",
      "Event 17 triggered: 0.000292076V\n",
      "Event 18 triggered: 7.32488e-05V\n",
      "Event 19 triggered: 3.94621e-05V\n",
      "Event 20 triggered: 0.000853052V\n",
      "Event 21 triggered: 6.58898e-05V\n",
      "Event 22 triggered: 0.000147507V\n",
      "Event 23 triggered: 0.000164895V\n",
      "Event 24 triggered: 4.8247e-05V\n",
      "Event 25 triggered: 4.14955e-05V\n",
      "Event 26 triggered: 0.000898832V\n",
      "Event 27 triggered: 4.09632e-05V\n",
      "Event 28 triggered: 0.000101278V"
     ]
    }
   ],
   "source": [
    "double thresh = 20e-6; \n",
    "// ~RoUgHlY~ a little more than background thermal noise RMS according to Steve is 5-10microVolts,\n",
    "// thresh is set to 20microVolts\n",
    "cout << \"Trigger threshold is: \" << thresh << endl;\n",
    "for(int k = 0; k < tree->GetEntries(); k++){\n",
    "    tree->GetEntry(k);\n",
    "    int trig=0,num=0;\n",
    "    for(int i=0;i<event->ntx;i++){\n",
    "        for(int j=0;j<event->nrx;j++){\n",
    "            trig=event->peakV(i,j)>=thresh?1:0;\n",
    "            if(trig==1)num++;\n",
    "            if(num>=event->nrx){\n",
    "                // Meat goes here\n",
    "                cout << \"\\nEvent \" << k << \" triggered: \" << event->peakV(0,0) << \"V\";\n",
    "            }\n",
    "        }\n",
    "    }\n",
    "}\n"
   ]
  },
  {
   "cell_type": "code",
   "execution_count": null,
   "id": "f90f0afb",
   "metadata": {},
   "outputs": [],
   "source": []
  }
 ],
 "metadata": {
  "kernelspec": {
   "display_name": "ROOT C++",
   "language": "c++",
   "name": "root"
  },
  "language_info": {
   "codemirror_mode": "text/x-c++src",
   "file_extension": ".C",
   "mimetype": " text/x-c++src",
   "name": "c++"
  }
 },
 "nbformat": 4,
 "nbformat_minor": 5
}
