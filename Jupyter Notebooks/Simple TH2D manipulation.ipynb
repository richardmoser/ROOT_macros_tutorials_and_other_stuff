{
 "cells": [
  {
   "cell_type": "code",
   "execution_count": 1,
   "id": "6ee4c24f",
   "metadata": {},
   "outputs": [
    {
     "data": {
      "image/png": "[encoded data removed]",
      "text/plain": [
       "<IPython.core.display.Image object>"
      ]
     },
     "metadata": {},
     "output_type": "display_data"
    }
   ],
   "source": [
    "//fills and prints the test histogram h2\n",
    "auto c1 = new TCanvas();\n",
    "c1->SetLeftMargin(.15);\n",
    "c1->SetBottomMargin(.12);\n",
    "c1->SetRightMargin(.18);\n",
    "\n",
    "vector<double_t> x;\n",
    "vector<double_t> y;\n",
    "vector<double_t> z;\n",
    " for(int i = 0; i < 25; i++){\n",
    "     for(int j = 0; j < 25; ++j){\n",
    "         x.push_back(i);\n",
    "         y.push_back(j);\n",
    "         z.push_back(gRandom->Integer(9)+1);\n",
    "     }\n",
    " }\n",
    "//initialize a new TH2D histogram with 25 entries in x and y, and a range of 0 to 5 in both x and y\n",
    "TH2D *h2 = new TH2D(\"h2\",\"h2\",5,0,5,5,0,5);\n",
    "//fill the histogram with the values in x,y,z\n",
    "h2->FillN(x.size(),&x[0],&y[0],&z[0]);\n",
    "gStyle->SetOptStat(0);\n",
    "h2->SetBarOffset(0.2);\n",
    "h2->Draw(\"TEXT colz\");\n",
    "c1->Draw();"
   ]
  },
  {
   "cell_type": "code",
   "execution_count": 2,
   "id": "6ed5b0c0",
   "metadata": {},
   "outputs": [
    {
     "name": "stdout",
     "output_type": "stream",
     "text": [
      "\n",
      "row: 1, col: 1, value: 9\n",
      "row: 1, col: 2, value: 2\n",
      "row: 1, col: 3, value: 3\n",
      "row: 1, col: 4, value: 9\n",
      "row: 1, col: 5, value: 3\n",
      "\n",
      "row: 2, col: 1, value: 9\n",
      "row: 2, col: 2, value: 6\n",
      "row: 2, col: 3, value: 5\n",
      "row: 2, col: 4, value: 6\n",
      "row: 2, col: 5, value: 2\n",
      "\n",
      "row: 3, col: 1, value: 3\n",
      "row: 3, col: 2, value: 4\n",
      "row: 3, col: 3, value: 2\n",
      "row: 3, col: 4, value: 4\n",
      "row: 3, col: 5, value: 7\n",
      "\n",
      "row: 4, col: 1, value: 4\n",
      "row: 4, col: 2, value: 7\n",
      "row: 4, col: 3, value: 6\n",
      "row: 4, col: 4, value: 9\n",
      "row: 4, col: 5, value: 4\n",
      "\n",
      "row: 5, col: 1, value: 6\n",
      "row: 5, col: 2, value: 4\n",
      "row: 5, col: 3, value: 6\n",
      "row: 5, col: 4, value: 7\n",
      "row: 5, col: 5, value: 6\n",
      "\n"
     ]
    }
   ],
   "source": [
    "// prints z values of test histogram h2\n",
    "vector<vector<double_t>> hist;\n",
    "    for(int i = 0; i < 6; ++i){\n",
    "        vector<double_t> row;\n",
    "        for(int j = 0; j < 6; ++j){\n",
    "            row.push_back(h2->GetBinContent(i,j));\n",
    "        }\n",
    "        hist.push_back(row);\n",
    "    }\n",
    "    //print the 2d vector\n",
    "    for(int i = 0; i < 6; ++i){\n",
    "        for(int j = 0; j < 6; ++j){\n",
    "            // print the value at row i, column j with text\n",
    "            if(i != 0 & j !=0){\n",
    "                cout << \"row: \" << i << \", col: \" << j << \", value: \" << hist[i][j] << endl;\n",
    "            }\n",
    "            \n",
    "//            cout << hist[i][j] << \" \";\n",
    "        }\n",
    "        cout << endl;\n",
    "    }"
   ]
  },
  {
   "cell_type": "code",
   "execution_count": null,
   "id": "23539ed3",
   "metadata": {},
   "outputs": [],
   "source": []
  }
 ],
 "metadata": {
  "kernelspec": {
   "display_name": "ROOT C++",
   "language": "c++",
   "name": "root"
  },
  "language_info": {
   "codemirror_mode": "text/x-c++src",
   "file_extension": ".C",
   "mimetype": " text/x-c++src",
   "name": "c++"
  }
 },
 "nbformat": 4,
 "nbformat_minor": 5
}
