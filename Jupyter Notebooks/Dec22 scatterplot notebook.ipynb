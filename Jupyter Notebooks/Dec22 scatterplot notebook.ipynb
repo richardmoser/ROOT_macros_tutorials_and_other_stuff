{
 "cells": [
  {
   "cell_type": "code",
   "execution_count": 1,
   "id": "d65560cd",
   "metadata": {},
   "outputs": [],
   "source": [
    "gROOT->ProcessLine(\".L /home/rj/app/lib/libRadioScatter.so\");\n",
    "gROOT->ProcessLine(\"#include </home/rj/app/include/RadioScatter/RadioScatter.hh>\");\n",
    "gROOT->ProcessLine(\"#include </home/rj/app/include/RadioScatter/RSEventSummary.hh>\");\n",
    "gROOT->ProcessLine(\"#include </home/rj/app/include/RadioScatter/RadioScatterEvent.hh>\");\n",
    "gROOT->ProcessLine(\"#include </home/rj/app/include/RadioScatter/TUtilRadioScatter.hh>\");"
   ]
  },
  {
   "cell_type": "code",
   "execution_count": 2,
   "id": "f07739a2",
   "metadata": {},
   "outputs": [],
   "source": [
    "int glob_to_y(TH2* hist, int global){\n",
    "    int x_bins = hist->GetNbinsX();\n",
    "    int temp = global / (x_bins + 2);\n",
    "    // x bin value is global % the total number of x bins (GetNbinsX doesn't count either buffer bin)\n",
    "    return temp;\n",
    "}"
   ]
  },
  {
   "cell_type": "code",
   "execution_count": 3,
   "id": "652c3001",
   "metadata": {},
   "outputs": [],
   "source": [
    "int glob_to_x(TH2* hist, int global){\n",
    "    int x_bins = hist->GetNbinsX();\n",
    "    int temp = global % (x_bins + 2);\n",
    "    // x bin value is global % the total number of x bins (GetNbinsX doesn't count either buffer bin)\n",
    "    return temp;\n",
    "}"
   ]
  },
  {
   "cell_type": "code",
   "execution_count": 4,
   "id": "7c59eff9",
   "metadata": {},
   "outputs": [],
   "source": [
    "TGraph* makegraph(int t_window, TH2D *spec){\n",
    "    int NumFreqBins = spec->GetNbinsX();\n",
    "    int NumIntensBins = spec->GetNbinsY();\n",
    "    int binmax = spec->GetMaximumBin(); // bin number of max intensity\n",
    "    double *pows = new double[NumFreqBins]; // array of frequencies\n",
    "    double *ybin = new double[NumFreqBins]; // array of y bin numbers\n",
    "    double_t iterator = 0; // iterator for the for loop\n",
    "    int i = t_window - 390; // time bin number of the max intensity\n",
    "    for(int j = 0; j < spec->GetNbinsY(); j++){\n",
    "        if(j==0){pows[j]=0;}\n",
    "        else{pows[j]=spec->GetBinContent(i,j);}\n",
    "        ybin[j] = j*0.015625*1000; // y bin number x YBinWidth * 1000MHz/GHz\n",
    "        iterator ++;\n",
    "    }\n",
    "    TGraph *gr = new TGraph(NumFreqBins, ybin, pows);\n",
    "    return gr;\n",
    "}"
   ]
  },
  {
   "cell_type": "code",
   "execution_count": 5,
   "id": "6660bc5a",
   "metadata": {},
   "outputs": [],
   "source": [
    "double* power_generator(TH2D *spec, double *pows_in){\n",
    "    int NumFreqBins = spec->GetNbinsX();\n",
    "    int NumIntensBins = spec->GetNbinsY();\n",
    "    int binmax = spec->GetMaximumBin(); // bin number of max intensity\n",
    "    double *pows = new double[NumFreqBins]; // array of frequencies\n",
    "    double *retpows = new double[NumFreqBins]; // array of frequencies\n",
    "    double *ybin = new double[NumFreqBins]; // array of y bin numbers\n",
    "    double_t iterator = 0; // iterator for the for loop\n",
    "//    int i = binmax - 390; // time bin number of the max intensity\n",
    "    int i = 460 - 390;\n",
    "    for(int j = 0; j < 32; j++){\n",
    "        if(j==0){pows[j]=0;}\n",
    "//        else{pows[j]=spec->GetBinContent(i,j) + pows_in[j];\n",
    "            else{pows[j]=spec->GetBinContent(i,j);\n",
    "        }\n",
    "        ybin[j] = j*0.015625*1000; // y bin number x YBinWidth * 1000MHz/GHz\n",
    "        iterator ++;\n",
    "    }\n",
    "    // loop over each entry in pows, add the value of pows_in, then return pows\n",
    "    for (int k = 0; k < NumFreqBins; k++){\n",
    "        retpows[k] = pows[k] + 1*pows_in[k];\n",
    "        if (retpows[k] > 1*pow(10,-18)){\n",
    "            cout << \"pows[\" << k << \"] = \" << pows[k] << \" retpows[\" << k << \"] = \" << retpows[k] << endl;\n",
    "        }\n",
    "    }\n",
    "    return retpows;\n",
    "}"
   ]
  },
  {
   "cell_type": "code",
   "execution_count": 6,
   "id": "d5451236",
   "metadata": {},
   "outputs": [],
   "source": [
    "TString infile = \"/home/rj/RadioScatter/outputfiles/multiscat_0GHz_10W_10ns.root\";\n",
    "//    TString infile = \"/home/rj/RadioScatter/doc/multiscat_0MHz_10W_10ns.root\";\n",
    "auto ff = TFile::Open(infile, \"READ\");\n",
    "int rxindex = 0;\n",
    "int txindex = 0;\n",
    "int antenna = 0;\n",
    "int entry = 0;\n",
    "auto tree=(TTree*)ff->Get(\"tree\");    \n",
    "\n",
    "TCanvas *c1 = new TCanvas(\"c1\", \"c1\", 800, 600);\n",
    "c1->Divide(2, 2);\n",
    "//    c1->SetWindowSize(1200, 1200);\n",
    "c1->SetWindowSize(1200, 800);\n",
    "gPad->SetLeftMargin(.1);\n",
    "gPad->SetBottomMargin(0);\n",
    "c1->cd(1);\n",
    "// c1->cd(1)->SetLeftMargin(.15);\n",
    "// c1->cd(1)->SetRightMargin(.2);\n",
    "// c1->cd(2)->SetLeftMargin(.15);\n",
    "// c1->cd(3)->SetLeftMargin(.15);\n",
    "// c1->cd(3)->SetRightMargin(.2);\n",
    "// c1->cd(4)->SetLeftMargin(.15);\n",
    "\n",
    "auto event = new RadioScatterEvent();\n",
    "tree->SetBranchAddress(\"event\", &event);"
   ]
  },
  {
   "cell_type": "code",
   "execution_count": 7,
   "id": "d2d469c2",
   "metadata": {
    "scrolled": true
   },
   "outputs": [
    {
     "data": {
      "image/png": "[encoded data removed]",
      "text/plain": [
       "<IPython.core.display.Image object>"
      ]
     },
     "metadata": {},
     "output_type": "display_data"
    }
   ],
   "source": [
    "int entries = tree->GetEntries();\n",
    "tree->GetEntry(entry); // get the first entry\n",
    "auto evG = event->getGraph(rxindex, txindex); // generates graph evG\n",
    "TUtilRadioScatter::titles(evG, \"\", \"Time [ns]\", \"V\");\n",
    "TUtilRadioScatter::style(evG, kBlack, 1, 1);\n",
    "TUtilRadioScatter::xrange(evG, evG->GetX()[0], evG->GetX()[evG->GetN() - 1]);\n",
    "int bins = 32, overlap = 31;\n",
    "auto spec = TUtilRadioScatter::FFT::spectrogram(evG, bins, overlap, bins * 2, 2, 0, 0, .2); // generates spectrogram spec\n",
    "c1->SetLogy(0); // set y axis to linear\n",
    "c1->cd(1); //moves to canvas 1, upper left\n",
    "c1->cd(1)->SetLogy(0); // set y axis to linear\n",
    "spec->SetStats(0); // removes stats box\n",
    "spec->GetYaxis()->SetRangeUser(0,.25);\n",
    "spec->GetZaxis()->SetRangeUser(1*pow(10,-18), 1*pow(10,-15));\n",
    "spec->Draw(\"colz\"); // draws spectrogram to canvas 1 upper left\n",
    "\n",
    "auto mg = new TMultiGraph(); // creates a multigraph\n",
    "c1->cd(2)->SetLogy(1); // set y axis to logarithmic\n",
    "c1->Draw();\n"
   ]
  },
  {
   "cell_type": "code",
   "execution_count": 11,
   "id": "e7da4f4c",
   "metadata": {
    "scrolled": true
   },
   "outputs": [
    {
     "name": "stdout",
     "output_type": "stream",
     "text": [
      "49 x 64 bins\n",
      "max, global bin number = 166\n",
      "max, x bin number = 13\n",
      "start time = 358\n",
      "max time = 371\n",
      "NumFreqBins = 49\n",
      "NumTimeBins = 64\n",
      "5.79366e-15\n",
      "468\n"
     ]
    }
   ],
   "source": [
    "int NumFreqBins=spec->GetNbinsX();\n",
    "int NumTimeBins=spec->GetNbinsY();\n",
    "double *pows = new double[NumFreqBins];\n",
    "double *ybin = new double[NumFreqBins];\n",
    "double_t iterator = 0;\n",
    "int spec_start_time; // time at which the spectrogram \"spec\" starts\n",
    "    if(fmod(evG->GetX()[0], 1) >=.5){ // C++ rounds down for all numbers, so\n",
    "        spec_start_time = evG->GetX()[0] + 1; // if the decimal is >= .5, add 1 to the integer part\n",
    "    }\n",
    "    else{\n",
    "        spec_start_time = evG->GetX()[0]; // otherwise, just use the integer part\n",
    "    }\n",
    "int binmax = spec->GetMaximumBin(); // bin number of max intensity\n",
    "int xmax = glob_to_x(spec, binmax); // x bin number of max intensity\n",
    "cout << spec->GetNbinsX() << \" x \" << spec->GetNbinsY() << \" bins\" << endl;\n",
    "cout << \"max, global bin number = \" << binmax << endl;\n",
    "cout << \"max, x bin number = \" << xmax << endl;\n",
    "cout << \"start time = \" << spec_start_time << endl;\n",
    "cout << \"max time = \" << spec_start_time + xmax << endl;\n",
    "cout << \"NumFreqBins = \" << NumFreqBins << endl;\n",
    "cout << \"NumTimeBins = \" << NumTimeBins << endl;\n",
    "\n",
    "\n",
    "\n",
    "int i = xmax;\n",
    "for(int j = 0; j < spec->GetNbinsY(); j++){\n",
    "    if(j==0){\n",
    "        pows[j]=0;\n",
    "    }\n",
    "    else{\n",
    "        pows[j]=spec->GetBinContent(i,j);\n",
    "    }\n",
    "    ybin[j] = j*.0625*1000*2.5; // y bin number x .2GHz/32bins * 1000MHz/GHz * 2.5 to account for overlap\n",
    "    iterator ++;\n",
    "}\n",
    "\n",
    "double max;\n",
    "int maxj;\n",
    "for(int j = 0; j < spec->GetNbinsY(); j++){\n",
    "    if(j == 0){\n",
    "        max = 0.0;\n",
    "    }\n",
    "    if(pows[j] > max){\n",
    "        maxj = j*.0625*1000*2.5;\n",
    "        max = pows[j];\n",
    "    } Generating stack trace...\n",
    " 0x00007f0e8a34b210 in TClass::SetUnloaded() + 0x130 from /home/rj/root/lib/libCore.so.6.26\n",
    " 0x00007f0e8a2f41c4 in ROOT::RemoveClass(char const*) + 0x64 from /home/rj/root/lib/libCor\n",
    "    iterator ++;\n",
    "}\n",
    "cout << max << endl;\n",
    "cout << maxj << endl;\n"
   ]
  },
  {
   "cell_type": "code",
   "execution_count": 12,
   "id": "b1a1ff08",
   "metadata": {},
   "outputs": [
    {
     "data": {
      "image/png": "[encoded data removed]",
      "text/plain": [
       "<IPython.core.display.Image object>"
      ]
     },
     "metadata": {},
     "output_type": "display_data"
    }
   ],
   "source": [
    "TGraph *gr = new TGraph(NumFreqBins, ybin, pows);\n",
    "//    gr->GetYaxis()->SetRangeUser(1*pow(10,-18), 1*pow(10,-8));\n",
    "    gr->GetYaxis()->SetRangeUser(1*pow(10,-18), 5*pow(10,-13));\n",
    "//    gr->GetYaxis()->SetLimits(1*pow(10,-18), 1*pow(10,-15));\n",
    "    gr->SetMarkerColor(4);\n",
    "    gr->SetMarkerSize(.5);\n",
    "    gr->SetMarkerStyle(21);\n",
    "//    gr->GetXaxis()->SetLimits(0,200);\n",
    "    gr->GetXaxis()->SetLimits(0,5000);\n",
    "    gr->SetTitle(Form(\"Frequency vs asdfasdf Power at time %dns\", (i + spec_start_time))); // set title of graph with the time of maximum intensity\n",
    "    gr->GetXaxis()->SetTitle(\"Frequency (MHz)\");\n",
    "    gr->GetYaxis()->SetTitle(\"Power WGHz^{-1}\");\n",
    "gr->Draw(\"ACP\");\n",
    "c1->Draw();"
   ]
  },
  {
   "cell_type": "code",
   "execution_count": null,
   "id": "85fc5f9b",
   "metadata": {},
   "outputs": [],
   "source": []
  },
  {
   "cell_type": "code",
   "execution_count": 8,
   "id": "924730c0",
   "metadata": {},
   "outputs": [],
   "source": [
    "double *newpows = new double[entries];"
   ]
  },
  {
   "cell_type": "code",
   "execution_count": null,
   "id": "b7435187",
   "metadata": {},
   "outputs": [],
   "source": []
  },
  {
   "cell_type": "code",
   "execution_count": null,
   "id": "e350d2b5",
   "metadata": {},
   "outputs": [],
   "source": []
  },
  {
   "cell_type": "code",
   "execution_count": null,
   "id": "ba4d0c11",
   "metadata": {},
   "outputs": [],
   "source": [
    "TGraph *gr1 = new TGraph(NumFreqBins, ybin, newpows);\n",
    "gr1->GetYaxis()->SetRangeUser(1*pow(10,-18), 1*pow(10,-9));\n",
    "//    gr1->GetYaxis()->SetLimits(1*pow(10,-18), 1*pow(10,-15));\n",
    "gr1->SetMarkerColor(4);\n",
    "gr1->SetMarkerSize(.5);\n",
    "gr1->SetMarkerStyle(21);\n",
    "gr1->GetXaxis()->SetLimits(0,5000);\n",
    "gr1->SetTitle(\"Frequency vs Power summed over all events (0-5GHz)\");\n",
    "gr1->GetXaxis()->SetTitle(\"Frequency (MHz)\");\n",
    "gr1->GetYaxis()->SetTitle(\"Power WGHz^{-1}\");\n",
    "gr1->Draw(\"ACP\");"
   ]
  },
  {
   "cell_type": "code",
   "execution_count": null,
   "id": "8c1d6b15",
   "metadata": {},
   "outputs": [],
   "source": []
  },
  {
   "cell_type": "code",
   "execution_count": null,
   "id": "8bcf0e89",
   "metadata": {},
   "outputs": [],
   "source": []
  }
 ],
 "metadata": {
  "kernelspec": {
   "display_name": "ROOT C++",
   "language": "c++",
   "name": "root"
  },
  "language_info": {
   "codemirror_mode": "text/x-c++src",
   "file_extension": ".C",
   "mimetype": " text/x-c++src",
   "name": "c++"
  }
 },
 "nbformat": 4,
 "nbformat_minor": 5
}
